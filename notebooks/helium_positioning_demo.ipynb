{
 "cells": [
  {
   "cell_type": "markdown",
   "source": [
    "# Helium Positioning Demo\n",
    "\n",
    "## Setup"
   ],
   "metadata": {
    "collapsed": false
   }
  },
  {
   "cell_type": "code",
   "execution_count": 100,
   "metadata": {
    "collapsed": true
   },
   "outputs": [],
   "source": [
    "!pip install folium"
   ]
  },
  {
   "cell_type": "code",
   "execution_count": 102,
   "metadata": {
    "collapsed": true
   },
   "outputs": [],
   "source": [
    "import folium\n",
    "\n",
    "uuid = \"92f23793-6647-40aa-b255-fa1d4baec75d\""
   ]
  },
  {
   "cell_type": "code",
   "execution_count": 101,
   "outputs": [
    {
     "name": "stdout",
     "output_type": "stream",
     "text": [
      "Requirement already satisfied: helium-positioning-api in c:\\users\\fabia\\code\\dsia\\helium-demo\\venv\\lib\\site-packages (0.0.2.dev1675377161)\n",
      "Requirement already satisfied: joblib<2.0.0,>=1.2.0 in c:\\users\\fabia\\code\\dsia\\helium-demo\\venv\\lib\\site-packages (from helium-positioning-api) (1.2.0)\n",
      "Requirement already satisfied: helium-api-wrapper<0.0.2,>=0.0.1.dev1675239484 in c:\\users\\fabia\\code\\dsia\\helium-demo\\venv\\lib\\site-packages (from helium-positioning-api) (0.0.1.dev1675266436)\n",
      "Requirement already satisfied: haversine<3.0.0,>=2.7.0 in c:\\users\\fabia\\code\\dsia\\helium-demo\\venv\\lib\\site-packages (from helium-positioning-api) (2.7.0)\n",
      "Requirement already satisfied: utm<0.8.0,>=0.7.0 in c:\\users\\fabia\\code\\dsia\\helium-demo\\venv\\lib\\site-packages (from helium-positioning-api) (0.7.0)\n",
      "Requirement already satisfied: scikit-learn<2.0.0,>=1.2.1 in c:\\users\\fabia\\code\\dsia\\helium-demo\\venv\\lib\\site-packages (from helium-positioning-api) (1.2.1)\n",
      "Requirement already satisfied: pandas<2.0.0,>=1.5.3 in c:\\users\\fabia\\code\\dsia\\helium-demo\\venv\\lib\\site-packages (from helium-positioning-api) (1.5.3)\n",
      "Requirement already satisfied: pytest-mock<4.0.0,>=3.10.0 in c:\\users\\fabia\\code\\dsia\\helium-demo\\venv\\lib\\site-packages (from helium-positioning-api) (3.10.0)\n",
      "Requirement already satisfied: click>=8.0.1 in c:\\users\\fabia\\code\\dsia\\helium-demo\\venv\\lib\\site-packages (from helium-positioning-api) (8.1.3)\n",
      "Requirement already satisfied: python-dotenv<0.22.0,>=0.21.1 in c:\\users\\fabia\\code\\dsia\\helium-demo\\venv\\lib\\site-packages (from helium-positioning-api) (0.21.1)\n",
      "Requirement already satisfied: uvicorn<0.20.0,>=0.19.0 in c:\\users\\fabia\\code\\dsia\\helium-demo\\venv\\lib\\site-packages (from helium-positioning-api) (0.19.0)\n",
      "Requirement already satisfied: fastapi<0.88.0,>=0.87.0 in c:\\users\\fabia\\code\\dsia\\helium-demo\\venv\\lib\\site-packages (from helium-positioning-api) (0.87.0)\n",
      "Requirement already satisfied: pydantic<2.0.0,>=1.10.2 in c:\\users\\fabia\\code\\dsia\\helium-demo\\venv\\lib\\site-packages (from helium-positioning-api) (1.10.4)\n",
      "Requirement already satisfied: colorama in c:\\users\\fabia\\code\\dsia\\helium-demo\\venv\\lib\\site-packages (from click>=8.0.1->helium-positioning-api) (0.4.6)\n",
      "Requirement already satisfied: starlette==0.21.0 in c:\\users\\fabia\\code\\dsia\\helium-demo\\venv\\lib\\site-packages (from fastapi<0.88.0,>=0.87.0->helium-positioning-api) (0.21.0)\n",
      "Requirement already satisfied: typing-extensions>=3.10.0 in c:\\users\\fabia\\code\\dsia\\helium-demo\\venv\\lib\\site-packages (from starlette==0.21.0->fastapi<0.88.0,>=0.87.0->helium-positioning-api) (4.4.0)\n",
      "Requirement already satisfied: anyio<5,>=3.4.0 in c:\\users\\fabia\\code\\dsia\\helium-demo\\venv\\lib\\site-packages (from starlette==0.21.0->fastapi<0.88.0,>=0.87.0->helium-positioning-api) (3.6.2)\n",
      "Requirement already satisfied: sphinx-rtd-theme<2.0.0,>=1.1.1 in c:\\users\\fabia\\code\\dsia\\helium-demo\\venv\\lib\\site-packages (from helium-api-wrapper<0.0.2,>=0.0.1.dev1675239484->helium-positioning-api) (1.1.1)\n",
      "Requirement already satisfied: pyarrow<11.0.0,>=10.0.0 in c:\\users\\fabia\\code\\dsia\\helium-demo\\venv\\lib\\site-packages (from helium-api-wrapper<0.0.2,>=0.0.1.dev1675239484->helium-positioning-api) (10.0.1)\n",
      "Requirement already satisfied: types-requests<3.0.0.0,>=2.28.11.5 in c:\\users\\fabia\\code\\dsia\\helium-demo\\venv\\lib\\site-packages (from helium-api-wrapper<0.0.2,>=0.0.1.dev1675239484->helium-positioning-api) (2.28.11.8)\n",
      "Requirement already satisfied: types-click<8.0.0,>=7.1.8 in c:\\users\\fabia\\code\\dsia\\helium-demo\\venv\\lib\\site-packages (from helium-api-wrapper<0.0.2,>=0.0.1.dev1675239484->helium-positioning-api) (7.1.8)\n",
      "Requirement already satisfied: pytz>=2020.1 in c:\\users\\fabia\\code\\dsia\\helium-demo\\venv\\lib\\site-packages (from pandas<2.0.0,>=1.5.3->helium-positioning-api) (2022.7.1)\n",
      "Requirement already satisfied: python-dateutil>=2.8.1 in c:\\users\\fabia\\code\\dsia\\helium-demo\\venv\\lib\\site-packages (from pandas<2.0.0,>=1.5.3->helium-positioning-api) (2.8.2)\n",
      "Requirement already satisfied: numpy>=1.20.3 in c:\\users\\fabia\\code\\dsia\\helium-demo\\venv\\lib\\site-packages (from pandas<2.0.0,>=1.5.3->helium-positioning-api) (1.24.1)\n",
      "Requirement already satisfied: pytest>=5.0 in c:\\users\\fabia\\code\\dsia\\helium-demo\\venv\\lib\\site-packages (from pytest-mock<4.0.0,>=3.10.0->helium-positioning-api) (7.2.1)\n",
      "Requirement already satisfied: threadpoolctl>=2.0.0 in c:\\users\\fabia\\code\\dsia\\helium-demo\\venv\\lib\\site-packages (from scikit-learn<2.0.0,>=1.2.1->helium-positioning-api) (3.1.0)\n",
      "Requirement already satisfied: scipy>=1.3.2 in c:\\users\\fabia\\code\\dsia\\helium-demo\\venv\\lib\\site-packages (from scikit-learn<2.0.0,>=1.2.1->helium-positioning-api) (1.10.0)\n",
      "Requirement already satisfied: h11>=0.8 in c:\\users\\fabia\\code\\dsia\\helium-demo\\venv\\lib\\site-packages (from uvicorn<0.20.0,>=0.19.0->helium-positioning-api) (0.14.0)\n",
      "Requirement already satisfied: tomli>=1.0.0 in c:\\users\\fabia\\code\\dsia\\helium-demo\\venv\\lib\\site-packages (from pytest>=5.0->pytest-mock<4.0.0,>=3.10.0->helium-positioning-api) (2.0.1)\n",
      "Requirement already satisfied: packaging in c:\\users\\fabia\\code\\dsia\\helium-demo\\venv\\lib\\site-packages (from pytest>=5.0->pytest-mock<4.0.0,>=3.10.0->helium-positioning-api) (23.0)\n",
      "Requirement already satisfied: exceptiongroup>=1.0.0rc8 in c:\\users\\fabia\\code\\dsia\\helium-demo\\venv\\lib\\site-packages (from pytest>=5.0->pytest-mock<4.0.0,>=3.10.0->helium-positioning-api) (1.1.0)\n",
      "Requirement already satisfied: iniconfig in c:\\users\\fabia\\code\\dsia\\helium-demo\\venv\\lib\\site-packages (from pytest>=5.0->pytest-mock<4.0.0,>=3.10.0->helium-positioning-api) (2.0.0)\n",
      "Requirement already satisfied: attrs>=19.2.0 in c:\\users\\fabia\\code\\dsia\\helium-demo\\venv\\lib\\site-packages (from pytest>=5.0->pytest-mock<4.0.0,>=3.10.0->helium-positioning-api) (22.2.0)\n",
      "Requirement already satisfied: pluggy<2.0,>=0.12 in c:\\users\\fabia\\code\\dsia\\helium-demo\\venv\\lib\\site-packages (from pytest>=5.0->pytest-mock<4.0.0,>=3.10.0->helium-positioning-api) (1.0.0)\n",
      "Requirement already satisfied: six>=1.5 in c:\\users\\fabia\\code\\dsia\\helium-demo\\venv\\lib\\site-packages (from python-dateutil>=2.8.1->pandas<2.0.0,>=1.5.3->helium-positioning-api) (1.16.0)\n",
      "Requirement already satisfied: sphinx<6,>=1.6 in c:\\users\\fabia\\code\\dsia\\helium-demo\\venv\\lib\\site-packages (from sphinx-rtd-theme<2.0.0,>=1.1.1->helium-api-wrapper<0.0.2,>=0.0.1.dev1675239484->helium-positioning-api) (5.3.0)\n",
      "Requirement already satisfied: docutils<0.18 in c:\\users\\fabia\\code\\dsia\\helium-demo\\venv\\lib\\site-packages (from sphinx-rtd-theme<2.0.0,>=1.1.1->helium-api-wrapper<0.0.2,>=0.0.1.dev1675239484->helium-positioning-api) (0.17.1)\n",
      "Requirement already satisfied: types-urllib3<1.27 in c:\\users\\fabia\\code\\dsia\\helium-demo\\venv\\lib\\site-packages (from types-requests<3.0.0.0,>=2.28.11.5->helium-api-wrapper<0.0.2,>=0.0.1.dev1675239484->helium-positioning-api) (1.26.25.4)\n",
      "Requirement already satisfied: idna>=2.8 in c:\\users\\fabia\\code\\dsia\\helium-demo\\venv\\lib\\site-packages (from anyio<5,>=3.4.0->starlette==0.21.0->fastapi<0.88.0,>=0.87.0->helium-positioning-api) (3.4)\n",
      "Requirement already satisfied: sniffio>=1.1 in c:\\users\\fabia\\code\\dsia\\helium-demo\\venv\\lib\\site-packages (from anyio<5,>=3.4.0->starlette==0.21.0->fastapi<0.88.0,>=0.87.0->helium-positioning-api) (1.3.0)\n",
      "Requirement already satisfied: sphinxcontrib-applehelp in c:\\users\\fabia\\code\\dsia\\helium-demo\\venv\\lib\\site-packages (from sphinx<6,>=1.6->sphinx-rtd-theme<2.0.0,>=1.1.1->helium-api-wrapper<0.0.2,>=0.0.1.dev1675239484->helium-positioning-api) (1.0.4)\n",
      "Requirement already satisfied: sphinxcontrib-devhelp in c:\\users\\fabia\\code\\dsia\\helium-demo\\venv\\lib\\site-packages (from sphinx<6,>=1.6->sphinx-rtd-theme<2.0.0,>=1.1.1->helium-api-wrapper<0.0.2,>=0.0.1.dev1675239484->helium-positioning-api) (1.0.2)\n",
      "Requirement already satisfied: alabaster<0.8,>=0.7 in c:\\users\\fabia\\code\\dsia\\helium-demo\\venv\\lib\\site-packages (from sphinx<6,>=1.6->sphinx-rtd-theme<2.0.0,>=1.1.1->helium-api-wrapper<0.0.2,>=0.0.1.dev1675239484->helium-positioning-api) (0.7.13)\n",
      "Requirement already satisfied: importlib-metadata>=4.8 in c:\\users\\fabia\\code\\dsia\\helium-demo\\venv\\lib\\site-packages (from sphinx<6,>=1.6->sphinx-rtd-theme<2.0.0,>=1.1.1->helium-api-wrapper<0.0.2,>=0.0.1.dev1675239484->helium-positioning-api) (6.0.0)\n",
      "Requirement already satisfied: sphinxcontrib-serializinghtml>=1.1.5 in c:\\users\\fabia\\code\\dsia\\helium-demo\\venv\\lib\\site-packages (from sphinx<6,>=1.6->sphinx-rtd-theme<2.0.0,>=1.1.1->helium-api-wrapper<0.0.2,>=0.0.1.dev1675239484->helium-positioning-api) (1.1.5)\n",
      "Requirement already satisfied: imagesize>=1.3 in c:\\users\\fabia\\code\\dsia\\helium-demo\\venv\\lib\\site-packages (from sphinx<6,>=1.6->sphinx-rtd-theme<2.0.0,>=1.1.1->helium-api-wrapper<0.0.2,>=0.0.1.dev1675239484->helium-positioning-api) (1.4.1)\n",
      "Requirement already satisfied: babel>=2.9 in c:\\users\\fabia\\code\\dsia\\helium-demo\\venv\\lib\\site-packages (from sphinx<6,>=1.6->sphinx-rtd-theme<2.0.0,>=1.1.1->helium-api-wrapper<0.0.2,>=0.0.1.dev1675239484->helium-positioning-api) (2.11.0)\n",
      "Requirement already satisfied: snowballstemmer>=2.0 in c:\\users\\fabia\\code\\dsia\\helium-demo\\venv\\lib\\site-packages (from sphinx<6,>=1.6->sphinx-rtd-theme<2.0.0,>=1.1.1->helium-api-wrapper<0.0.2,>=0.0.1.dev1675239484->helium-positioning-api) (2.2.0)\n",
      "Requirement already satisfied: sphinxcontrib-qthelp in c:\\users\\fabia\\code\\dsia\\helium-demo\\venv\\lib\\site-packages (from sphinx<6,>=1.6->sphinx-rtd-theme<2.0.0,>=1.1.1->helium-api-wrapper<0.0.2,>=0.0.1.dev1675239484->helium-positioning-api) (1.0.3)\n",
      "Requirement already satisfied: requests>=2.5.0 in c:\\users\\fabia\\code\\dsia\\helium-demo\\venv\\lib\\site-packages (from sphinx<6,>=1.6->sphinx-rtd-theme<2.0.0,>=1.1.1->helium-api-wrapper<0.0.2,>=0.0.1.dev1675239484->helium-positioning-api) (2.28.2)\n",
      "Requirement already satisfied: Jinja2>=3.0 in c:\\users\\fabia\\code\\dsia\\helium-demo\\venv\\lib\\site-packages (from sphinx<6,>=1.6->sphinx-rtd-theme<2.0.0,>=1.1.1->helium-api-wrapper<0.0.2,>=0.0.1.dev1675239484->helium-positioning-api) (3.1.2)\n",
      "Requirement already satisfied: sphinxcontrib-jsmath in c:\\users\\fabia\\code\\dsia\\helium-demo\\venv\\lib\\site-packages (from sphinx<6,>=1.6->sphinx-rtd-theme<2.0.0,>=1.1.1->helium-api-wrapper<0.0.2,>=0.0.1.dev1675239484->helium-positioning-api) (1.0.1)\n",
      "Requirement already satisfied: sphinxcontrib-htmlhelp>=2.0.0 in c:\\users\\fabia\\code\\dsia\\helium-demo\\venv\\lib\\site-packages (from sphinx<6,>=1.6->sphinx-rtd-theme<2.0.0,>=1.1.1->helium-api-wrapper<0.0.2,>=0.0.1.dev1675239484->helium-positioning-api) (2.0.1)\n",
      "Requirement already satisfied: Pygments>=2.12 in c:\\users\\fabia\\code\\dsia\\helium-demo\\venv\\lib\\site-packages (from sphinx<6,>=1.6->sphinx-rtd-theme<2.0.0,>=1.1.1->helium-api-wrapper<0.0.2,>=0.0.1.dev1675239484->helium-positioning-api) (2.14.0)\n",
      "Requirement already satisfied: zipp>=0.5 in c:\\users\\fabia\\code\\dsia\\helium-demo\\venv\\lib\\site-packages (from importlib-metadata>=4.8->sphinx<6,>=1.6->sphinx-rtd-theme<2.0.0,>=1.1.1->helium-api-wrapper<0.0.2,>=0.0.1.dev1675239484->helium-positioning-api) (3.12.0)\n",
      "Requirement already satisfied: MarkupSafe>=2.0 in c:\\users\\fabia\\code\\dsia\\helium-demo\\venv\\lib\\site-packages (from Jinja2>=3.0->sphinx<6,>=1.6->sphinx-rtd-theme<2.0.0,>=1.1.1->helium-api-wrapper<0.0.2,>=0.0.1.dev1675239484->helium-positioning-api) (2.1.2)\n",
      "Requirement already satisfied: certifi>=2017.4.17 in c:\\users\\fabia\\code\\dsia\\helium-demo\\venv\\lib\\site-packages (from requests>=2.5.0->sphinx<6,>=1.6->sphinx-rtd-theme<2.0.0,>=1.1.1->helium-api-wrapper<0.0.2,>=0.0.1.dev1675239484->helium-positioning-api) (2022.12.7)\n",
      "Requirement already satisfied: charset-normalizer<4,>=2 in c:\\users\\fabia\\code\\dsia\\helium-demo\\venv\\lib\\site-packages (from requests>=2.5.0->sphinx<6,>=1.6->sphinx-rtd-theme<2.0.0,>=1.1.1->helium-api-wrapper<0.0.2,>=0.0.1.dev1675239484->helium-positioning-api) (3.0.1)\n",
      "Requirement already satisfied: urllib3<1.27,>=1.21.1 in c:\\users\\fabia\\code\\dsia\\helium-demo\\venv\\lib\\site-packages (from requests>=2.5.0->sphinx<6,>=1.6->sphinx-rtd-theme<2.0.0,>=1.1.1->helium-api-wrapper<0.0.2,>=0.0.1.dev1675239484->helium-positioning-api) (1.26.14)\n"
     ]
    },
    {
     "name": "stderr",
     "output_type": "stream",
     "text": [
      "\n",
      "[notice] A new release of pip available: 22.3.1 -> 23.0\n",
      "[notice] To update, run: python.exe -m pip install --upgrade pip\n"
     ]
    }
   ],
   "source": [
    "!pip install helium-positioning-api"
   ],
   "metadata": {
    "collapsed": false
   }
  },
  {
   "cell_type": "markdown",
   "source": [
    "## API Wrapper"
   ],
   "metadata": {
    "collapsed": false
   }
  },
  {
   "cell_type": "code",
   "execution_count": 103,
   "outputs": [
    {
     "name": "stderr",
     "output_type": "stream",
     "text": [
      "INFO:helium_api_wrapper.devices:Getting Device for uuid 92f23793-6647-40aa-b255-fa1d4baec75d\n"
     ]
    },
    {
     "data": {
      "text/plain": "Device(adr_allowed=None, app_eui='8000000000000009', app_key='77627926CD51089D76CE4CDE9720A011', cf_list_enabled=None, dc_usage=99226, dev_eui='2CF7F1C043400020', id='92f23793-6647-40aa-b255-fa1d4baec75d', in_xor_filter=True, labels=[{'adr_allowed': None, 'cf_list_enabled': None, 'config_profile_id': None, 'id': '057daf06-045b-49a4-b8bd-d0dc87919d1c', 'name': 'SenseCAP Devices', 'rx_delay': None}], last_connected='2023-02-03T10:21:19', name='Vision-AI-Sensor', organization_id='ccaa708c-b822-4daa-b0f4-d7c10e7e8b25', oui='1', total_packets=99193)"
     },
     "execution_count": 103,
     "metadata": {},
     "output_type": "execute_result"
    }
   ],
   "source": [
    "from helium_api_wrapper import hotspots, challenges, devices\n",
    "\n",
    "devices.get_device_by_uuid(uuid)"
   ],
   "metadata": {
    "collapsed": false
   }
  },
  {
   "cell_type": "code",
   "execution_count": 105,
   "outputs": [
    {
     "name": "stderr",
     "output_type": "stream",
     "text": [
      "INFO:helium_api_wrapper.devices:Getting Device Integration Events for uuid 92f23793-6647-40aa-b255-fa1d4baec75d\n",
      "INFO:helium_api_wrapper.hotspots:Getting hotspot for address 11rR8NYN3QJoRTiogKC5XAjtBJ9g2Vu3YTjatPPNDpKKoHaHziz\n",
      "INFO:helium_api_wrapper.hotspots:Getting hotspot for address 112sDtGDuLbHQJH5pjQHkXkan42g6Ut67Lox8BQePb7MGDccWhrV\n",
      "INFO:helium_api_wrapper.hotspots:Getting hotspot for address 11KAjhPC6KvzENpWci8f2RSZgaN85iBkYfiL4cJdpkR2eHguJNt\n",
      "INFO:helium_api_wrapper.hotspots:Getting hotspot for address 112SMTS4zsXi1b4utSGh1LDJsAnqTCXAGcJfvtWXfvesjWp4wsF6\n",
      "INFO:helium_api_wrapper.endpoint:Got status code 429 Sleeping for 1 seconds\n"
     ]
    },
    {
     "data": {
      "text/plain": "[IntegrationHotspot(address='11rR8NYN3QJoRTiogKC5XAjtBJ9g2Vu3YTjatPPNDpKKoHaHziz', lat=47.59235280729005, lng=12.178968417210466, block=1732412, block_added=1430265, geocode=Geocode(long_city='Kufstein', long_country='Austria', long_state='Tirol', long_street='Stuttgarter Straße', short_city='Kufstein', short_country='AT', short_state='Tirol', short_street='Stuttgarter Str.', city_id='a3Vmc3RlaW50aXJvbGF1c3RyaWE'), location='8c1f89cccd29dff', name='energetic-powder-beetle', nonce=2, owner='14az6uKMDQTaiC8oMH7vjVY9oYKsAebK7V2mjfjn5GFMbjmDmtu', reward_scale=0.5, rssi=-123.0, snr=-10.5, datarate='SF12BW125', frequency=868.5, channel=None, reported_at=1675419791218),\n IntegrationHotspot(address='112sDtGDuLbHQJH5pjQHkXkan42g6Ut67Lox8BQePb7MGDccWhrV', lat=47.64677393756497, lng=12.213364655229798, block=1732412, block_added=1190183, geocode=Geocode(long_city='Niederndorf bei Kufstein', long_country='Austria', long_state='Tirol', long_street='Jennbachweg', short_city='Niederndorf bei Kufstein', short_country='AT', short_state='Tirol', short_street='Jennbachweg', city_id='bmllZGVybmRvcmYgYmVpIGt1ZnN0ZWludGlyb2xhdXN0cmlh'), location='8c1f89cedaf2bff', name='rich-red-canary', nonce=2, owner='14smLme1yLtYrz2UfnTcZpptEQhCNgEH11qgj4XdbVA7tiVYYxY', reward_scale=1.0, rssi=-132.0, snr=-18.200000762939453, datarate='SF12BW125', frequency=868.5, channel=None, reported_at=1675419791225),\n IntegrationHotspot(address='11KAjhPC6KvzENpWci8f2RSZgaN85iBkYfiL4cJdpkR2eHguJNt', lat=47.58867324809224, lng=12.159051675864555, block=1732412, block_added=1242239, geocode=Geocode(long_city='Morsbach', long_country='Austria', long_state='Tirol', long_street='Edschlößlweg', short_city='Morsbach', short_country='AT', short_state='Tirol', short_street='Edschlößlweg', city_id='bW9yc2JhY2h0aXJvbGF1c3RyaWE'), location='8c1f89cc18dbdff', name='gigantic-tweed-sardine', nonce=3, owner='13dpFjhucvPy4Ri2Wk5Te5ojeXsDm4eHh6VX3TMBYY4x1aQK1tg', reward_scale=0.8333282470703125, rssi=-118.0, snr=-13.199999809265137, datarate='SF12BW125', frequency=868.5, channel=None, reported_at=1675419791230),\n IntegrationHotspot(address='112SMTS4zsXi1b4utSGh1LDJsAnqTCXAGcJfvtWXfvesjWp4wsF6', lat=47.587865092995216, lng=12.176353207764826, block=1732412, block_added=833329, geocode=Geocode(long_city='Kufstein', long_country='Austria', long_state='Tirol', long_street='Anton Karg-Straße', short_city='Kufstein', short_country='AT', short_state='Tirol', short_street='Anton Karg-Straße', city_id='a3Vmc3RlaW50aXJvbGF1c3RyaWE'), location='8c1f89cccd8a5ff', name='skinny-rusty-sidewinder', nonce=1, owner='13H9ykhRaWw8AVEMqf7rV6Fn9fnLXxZ6G98JEdsA1gdcJKYqQYW', reward_scale=1.0, rssi=-90.0, snr=5.0, datarate='SF12BW125', frequency=868.5, channel=None, reported_at=1675419791231)]"
     },
     "execution_count": 105,
     "metadata": {},
     "output_type": "execute_result"
    }
   ],
   "source": [
    "event = devices.get_last_integration(uuid=uuid)\n",
    "event.hotspots"
   ],
   "metadata": {
    "collapsed": false
   }
  },
  {
   "cell_type": "code",
   "execution_count": 106,
   "outputs": [
    {
     "name": "stderr",
     "output_type": "stream",
     "text": [
      "INFO:helium_api_wrapper.hotspots:Getting hotspot for address 11rR8NYN3QJoRTiogKC5XAjtBJ9g2Vu3YTjatPPNDpKKoHaHziz\n"
     ]
    },
    {
     "data": {
      "text/plain": "[Hotspot(address='11rR8NYN3QJoRTiogKC5XAjtBJ9g2Vu3YTjatPPNDpKKoHaHziz', lat=47.59235280729005, lng=12.178968417210466, block=1732412, block_added=1430265, geocode=Geocode(long_city='Kufstein', long_country='Austria', long_state='Tirol', long_street='Stuttgarter Straße', short_city='Kufstein', short_country='AT', short_state='Tirol', short_street='Stuttgarter Str.', city_id='a3Vmc3RlaW50aXJvbGF1c3RyaWE'), location='8c1f89cccd29dff', name='energetic-powder-beetle', nonce=2, owner='14az6uKMDQTaiC8oMH7vjVY9oYKsAebK7V2mjfjn5GFMbjmDmtu', reward_scale=0.5)]"
     },
     "execution_count": 106,
     "metadata": {},
     "output_type": "execute_result"
    }
   ],
   "source": [
    "hotspots.get_hotspot_by_address(address=\"11rR8NYN3QJoRTiogKC5XAjtBJ9g2Vu3YTjatPPNDpKKoHaHziz\")"
   ],
   "metadata": {
    "collapsed": false
   }
  },
  {
   "cell_type": "code",
   "execution_count": 107,
   "outputs": [
    {
     "name": "stderr",
     "output_type": "stream",
     "text": [
      "INFO:helium_api_wrapper.hotspots:Getting hotspot for address 112Dk15v8LZLXLEbAwMiC1j48kekxhNCReUxFXAgTtc4kJxgf7Rd\n",
      "INFO:helium_api_wrapper.hotspots:Getting hotspot for address 112dKXHh6FnX7C4CUHs8Qo6HByztwJxudFcFKkrNH3uF3ZLeVjrs\n",
      "INFO:helium_api_wrapper.hotspots:Getting hotspot for address 112u7zmKkGcbauYhYf5u4RECmBiVtmxUXda9a1tVUwoiZZBJsjHw\n",
      "INFO:helium_api_wrapper.endpoint:Got status code 429 Sleeping for 1 seconds\n"
     ]
    },
    {
     "data": {
      "text/plain": "<folium.folium.Map at 0x1ed685400a0>",
      "text/html": "<div style=\"width:100%;\"><div style=\"position:relative;width:100%;height:0;padding-bottom:60%;\"><span style=\"color:#565656\">Make this Notebook Trusted to load map: File -> Trust Notebook</span><iframe srcdoc=\"&lt;!DOCTYPE html&gt;\n&lt;html&gt;\n&lt;head&gt;\n    \n    &lt;meta http-equiv=&quot;content-type&quot; content=&quot;text/html; charset=UTF-8&quot; /&gt;\n    \n        &lt;script&gt;\n            L_NO_TOUCH = false;\n            L_DISABLE_3D = false;\n        &lt;/script&gt;\n    \n    &lt;style&gt;html, body {width: 100%;height: 100%;margin: 0;padding: 0;}&lt;/style&gt;\n    &lt;style&gt;#map {position:absolute;top:0;bottom:0;right:0;left:0;}&lt;/style&gt;\n    &lt;script src=&quot;https://cdn.jsdelivr.net/npm/leaflet@1.9.3/dist/leaflet.js&quot;&gt;&lt;/script&gt;\n    &lt;script src=&quot;https://code.jquery.com/jquery-1.12.4.min.js&quot;&gt;&lt;/script&gt;\n    &lt;script src=&quot;https://cdn.jsdelivr.net/npm/bootstrap@5.2.2/dist/js/bootstrap.bundle.min.js&quot;&gt;&lt;/script&gt;\n    &lt;script src=&quot;https://cdnjs.cloudflare.com/ajax/libs/Leaflet.awesome-markers/2.0.2/leaflet.awesome-markers.js&quot;&gt;&lt;/script&gt;\n    &lt;link rel=&quot;stylesheet&quot; href=&quot;https://cdn.jsdelivr.net/npm/leaflet@1.9.3/dist/leaflet.css&quot;/&gt;\n    &lt;link rel=&quot;stylesheet&quot; href=&quot;https://cdn.jsdelivr.net/npm/bootstrap@5.2.2/dist/css/bootstrap.min.css&quot;/&gt;\n    &lt;link rel=&quot;stylesheet&quot; href=&quot;https://netdna.bootstrapcdn.com/bootstrap/3.0.0/css/bootstrap.min.css&quot;/&gt;\n    &lt;link rel=&quot;stylesheet&quot; href=&quot;https://cdn.jsdelivr.net/npm/@fortawesome/fontawesome-free@6.2.0/css/all.min.css&quot;/&gt;\n    &lt;link rel=&quot;stylesheet&quot; href=&quot;https://cdnjs.cloudflare.com/ajax/libs/Leaflet.awesome-markers/2.0.2/leaflet.awesome-markers.css&quot;/&gt;\n    &lt;link rel=&quot;stylesheet&quot; href=&quot;https://cdn.jsdelivr.net/gh/python-visualization/folium/folium/templates/leaflet.awesome.rotate.min.css&quot;/&gt;\n    \n            &lt;meta name=&quot;viewport&quot; content=&quot;width=device-width,\n                initial-scale=1.0, maximum-scale=1.0, user-scalable=no&quot; /&gt;\n            &lt;style&gt;\n                #map_cc2e5e9da9bd96cd16ad02c82398f470 {\n                    position: relative;\n                    width: 100.0%;\n                    height: 100.0%;\n                    left: 0.0%;\n                    top: 0.0%;\n                }\n                .leaflet-container { font-size: 1rem; }\n            &lt;/style&gt;\n        \n&lt;/head&gt;\n&lt;body&gt;\n    \n    \n            &lt;div class=&quot;folium-map&quot; id=&quot;map_cc2e5e9da9bd96cd16ad02c82398f470&quot; &gt;&lt;/div&gt;\n        \n&lt;/body&gt;\n&lt;script&gt;\n    \n    \n            var map_cc2e5e9da9bd96cd16ad02c82398f470 = L.map(\n                &quot;map_cc2e5e9da9bd96cd16ad02c82398f470&quot;,\n                {\n                    center: [47.56709396667235, 12.155058925144669],\n                    crs: L.CRS.EPSG3857,\n                    zoom: 10,\n                    zoomControl: true,\n                    preferCanvas: false,\n                }\n            );\n\n            \n\n        \n    \n            var tile_layer_732305ce56838cbf0eabd6d5f8080d64 = L.tileLayer(\n                &quot;https://{s}.tile.openstreetmap.org/{z}/{x}/{y}.png&quot;,\n                {&quot;attribution&quot;: &quot;Data by \\u0026copy; \\u003ca target=\\&quot;_blank\\&quot; href=\\&quot;http://openstreetmap.org\\&quot;\\u003eOpenStreetMap\\u003c/a\\u003e, under \\u003ca target=\\&quot;_blank\\&quot; href=\\&quot;http://www.openstreetmap.org/copyright\\&quot;\\u003eODbL\\u003c/a\\u003e.&quot;, &quot;detectRetina&quot;: false, &quot;maxNativeZoom&quot;: 18, &quot;maxZoom&quot;: 18, &quot;minZoom&quot;: 0, &quot;noWrap&quot;: false, &quot;opacity&quot;: 1, &quot;subdomains&quot;: &quot;abc&quot;, &quot;tms&quot;: false}\n            ).addTo(map_cc2e5e9da9bd96cd16ad02c82398f470);\n        \n    \n            var marker_3c8dbf285373aa0a21256bbed3e28a74 = L.marker(\n                [47.56709396667235, 12.155058925144669],\n                {}\n            ).addTo(map_cc2e5e9da9bd96cd16ad02c82398f470);\n        \n    \n            var icon_69ac373fcc2d60881a45b8e16f2535b0 = L.AwesomeMarkers.icon(\n                {&quot;extraClasses&quot;: &quot;fa-rotate-0&quot;, &quot;icon&quot;: &quot;circle&quot;, &quot;iconColor&quot;: &quot;white&quot;, &quot;markerColor&quot;: &quot;green&quot;, &quot;prefix&quot;: &quot;fa&quot;}\n            );\n            marker_3c8dbf285373aa0a21256bbed3e28a74.setIcon(icon_69ac373fcc2d60881a45b8e16f2535b0);\n        \n    \n        var popup_fddcbd2350647c216dad399a7c1af2e8 = L.popup({&quot;maxWidth&quot;: &quot;100%&quot;});\n\n        \n            \n                var html_42c04781d86ede41958c6b19b7e0d0e7 = $(`&lt;div id=&quot;html_42c04781d86ede41958c6b19b7e0d0e7&quot; style=&quot;width: 100.0%; height: 100.0%;&quot;&gt;young-amethyst-cod&lt;/div&gt;`)[0];\n                popup_fddcbd2350647c216dad399a7c1af2e8.setContent(html_42c04781d86ede41958c6b19b7e0d0e7);\n            \n        \n\n        marker_3c8dbf285373aa0a21256bbed3e28a74.bindPopup(popup_fddcbd2350647c216dad399a7c1af2e8)\n        ;\n\n        \n    \n    \n            var marker_96c4602a8e5a499ae9e4caf7fb6303a5 = L.marker(\n                [47.583191953511125, 12.162104007291667],\n                {}\n            ).addTo(map_cc2e5e9da9bd96cd16ad02c82398f470);\n        \n    \n            var icon_f128ce700e4bb34bd3763eeebf493813 = L.AwesomeMarkers.icon(\n                {&quot;extraClasses&quot;: &quot;fa-rotate-0&quot;, &quot;icon&quot;: &quot;circle&quot;, &quot;iconColor&quot;: &quot;white&quot;, &quot;markerColor&quot;: &quot;green&quot;, &quot;prefix&quot;: &quot;fa&quot;}\n            );\n            marker_96c4602a8e5a499ae9e4caf7fb6303a5.setIcon(icon_f128ce700e4bb34bd3763eeebf493813);\n        \n    \n        var popup_9d1f49624ca7d250ee4e16fe1ef56506 = L.popup({&quot;maxWidth&quot;: &quot;100%&quot;});\n\n        \n            \n                var html_37b2b63e6be95078d3f8463338ad6916 = $(`&lt;div id=&quot;html_37b2b63e6be95078d3f8463338ad6916&quot; style=&quot;width: 100.0%; height: 100.0%;&quot;&gt;clean-crimson-viper&lt;/div&gt;`)[0];\n                popup_9d1f49624ca7d250ee4e16fe1ef56506.setContent(html_37b2b63e6be95078d3f8463338ad6916);\n            \n        \n\n        marker_96c4602a8e5a499ae9e4caf7fb6303a5.bindPopup(popup_9d1f49624ca7d250ee4e16fe1ef56506)\n        ;\n\n        \n    \n    \n            var marker_e33f8d57abc14a41e351a5c000a8c224 = L.marker(\n                [47.58363978136824, 12.160093367672697],\n                {}\n            ).addTo(map_cc2e5e9da9bd96cd16ad02c82398f470);\n        \n    \n            var icon_997e2c000caaeb1d2b7396df2b3b18e7 = L.AwesomeMarkers.icon(\n                {&quot;extraClasses&quot;: &quot;fa-rotate-0&quot;, &quot;icon&quot;: &quot;circle&quot;, &quot;iconColor&quot;: &quot;white&quot;, &quot;markerColor&quot;: &quot;green&quot;, &quot;prefix&quot;: &quot;fa&quot;}\n            );\n            marker_e33f8d57abc14a41e351a5c000a8c224.setIcon(icon_997e2c000caaeb1d2b7396df2b3b18e7);\n        \n    \n        var popup_2596c1ebf2f3d6f3a31c66f4943b0265 = L.popup({&quot;maxWidth&quot;: &quot;100%&quot;});\n\n        \n            \n                var html_bffc71a3192434ccac91599d21808648 = $(`&lt;div id=&quot;html_bffc71a3192434ccac91599d21808648&quot; style=&quot;width: 100.0%; height: 100.0%;&quot;&gt;massive-sapphire-chinchilla&lt;/div&gt;`)[0];\n                popup_2596c1ebf2f3d6f3a31c66f4943b0265.setContent(html_bffc71a3192434ccac91599d21808648);\n            \n        \n\n        marker_e33f8d57abc14a41e351a5c000a8c224.bindPopup(popup_2596c1ebf2f3d6f3a31c66f4943b0265)\n        ;\n\n        \n    \n&lt;/script&gt;\n&lt;/html&gt;\" style=\"position:absolute;width:100%;height:100%;left:0;top:0;border:none !important;\" allowfullscreen webkitallowfullscreen mozallowfullscreen></iframe></div></div>"
     },
     "execution_count": 107,
     "metadata": {},
     "output_type": "execute_result"
    }
   ],
   "source": [
    "h1 = hotspots.get_hotspot_by_address(\"112Dk15v8LZLXLEbAwMiC1j48kekxhNCReUxFXAgTtc4kJxgf7Rd\")\n",
    "h2 = hotspots.get_hotspot_by_address(\"112dKXHh6FnX7C4CUHs8Qo6HByztwJxudFcFKkrNH3uF3ZLeVjrs\")\n",
    "h3 = hotspots.get_hotspot_by_address(\"112u7zmKkGcbauYhYf5u4RECmBiVtmxUXda9a1tVUwoiZZBJsjHw\")\n",
    "\n",
    "map = folium.Map(\n",
    "    location=[h1[0].lat, h1[0].lng],\n",
    "    zoom_start=10\n",
    ")\n",
    "\n",
    "for h in [h1[0], h2[0], h3[0]]:\n",
    "    folium.Marker(\n",
    "        [h.lat, h.lng],\n",
    "        popup=h.name,\n",
    "        icon=folium.Icon(color=\"green\", icon=\"circle\", prefix=\"fa\")\n",
    "    ).add_to(map)\n",
    "\n",
    "map"
   ],
   "metadata": {
    "collapsed": false
   }
  },
  {
   "cell_type": "markdown",
   "source": [
    "## Positioning API - Nearest Neighbor\n",
    "\n",
    "### Usage"
   ],
   "metadata": {
    "collapsed": false
   }
  },
  {
   "cell_type": "code",
   "execution_count": 108,
   "outputs": [
    {
     "name": "stderr",
     "output_type": "stream",
     "text": [
      "INFO:helium_api_wrapper.devices:Getting Device Integration Events for uuid 92f23793-6647-40aa-b255-fa1d4baec75d\n",
      "INFO:helium_api_wrapper.hotspots:Getting hotspot for address 11rR8NYN3QJoRTiogKC5XAjtBJ9g2Vu3YTjatPPNDpKKoHaHziz\n",
      "WARNING:helium_api_wrapper.endpoint:Resource not found\n",
      "INFO:helium_api_wrapper.devices:No Hotspot found for address 11rR8NYN3QJoRTiogKC5XAjtBJ9g2Vu3YTjatPPNDpKKoHaHziz\n",
      "INFO:helium_api_wrapper.hotspots:Getting hotspot for address 112SMTS4zsXi1b4utSGh1LDJsAnqTCXAGcJfvtWXfvesjWp4wsF6\n",
      "INFO:helium_api_wrapper.hotspots:Getting hotspot for address 112ixEmKbUq7aA9LrjWLe12dH2m7d532ommwkzPHwRS6uar9Lv6J\n",
      "INFO:helium_api_wrapper.hotspots:Getting hotspot for address 112sDtGDuLbHQJH5pjQHkXkan42g6Ut67Lox8BQePb7MGDccWhrV\n"
     ]
    },
    {
     "data": {
      "text/plain": "Prediction(uuid='92f23793-6647-40aa-b255-fa1d4baec75d', lat=47.64677393756497, lng=12.213364655229798, conf=None)"
     },
     "execution_count": 108,
     "metadata": {},
     "output_type": "execute_result"
    }
   ],
   "source": [
    "from helium_positioning_api.nearest_neighbor import nearest_neighbor\n",
    "\n",
    "nearest_neighbor(uuid=uuid)"
   ],
   "metadata": {
    "collapsed": false
   }
  },
  {
   "cell_type": "markdown",
   "source": [
    "### Explain"
   ],
   "metadata": {
    "collapsed": false
   }
  },
  {
   "cell_type": "code",
   "execution_count": 115,
   "outputs": [
    {
     "name": "stderr",
     "output_type": "stream",
     "text": [
      "INFO:helium_api_wrapper.devices:Getting Device Integration Events for uuid 92f23793-6647-40aa-b255-fa1d4baec75d\n",
      "INFO:helium_api_wrapper.hotspots:Getting hotspot for address 11rR8NYN3QJoRTiogKC5XAjtBJ9g2Vu3YTjatPPNDpKKoHaHziz\n",
      "INFO:helium_api_wrapper.hotspots:Getting hotspot for address 11YHbU2ov5pKtVZ77k99HsepVmryMw94mQgqz3znfUsduE837NK\n",
      "INFO:helium_api_wrapper.hotspots:Getting hotspot for address 112sDtGDuLbHQJH5pjQHkXkan42g6Ut67Lox8BQePb7MGDccWhrV\n",
      "INFO:helium_api_wrapper.hotspots:Getting hotspot for address 112ixEmKbUq7aA9LrjWLe12dH2m7d532ommwkzPHwRS6uar9Lv6J\n",
      "INFO:helium_api_wrapper.devices:Getting Device Integration Events for uuid 92f23793-6647-40aa-b255-fa1d4baec75d\n",
      "INFO:helium_api_wrapper.hotspots:Getting hotspot for address 11rR8NYN3QJoRTiogKC5XAjtBJ9g2Vu3YTjatPPNDpKKoHaHziz\n",
      "INFO:helium_api_wrapper.hotspots:Getting hotspot for address 112SMTS4zsXi1b4utSGh1LDJsAnqTCXAGcJfvtWXfvesjWp4wsF6\n",
      "INFO:helium_api_wrapper.hotspots:Getting hotspot for address 112sDtGDuLbHQJH5pjQHkXkan42g6Ut67Lox8BQePb7MGDccWhrV\n",
      "INFO:helium_api_wrapper.hotspots:Getting hotspot for address 11KAjhPC6KvzENpWci8f2RSZgaN85iBkYfiL4cJdpkR2eHguJNt\n"
     ]
    },
    {
     "data": {
      "text/plain": "<folium.folium.Map at 0x1ed685d6490>",
      "text/html": "<div style=\"width:100%;\"><div style=\"position:relative;width:100%;height:0;padding-bottom:60%;\"><span style=\"color:#565656\">Make this Notebook Trusted to load map: File -> Trust Notebook</span><iframe srcdoc=\"&lt;!DOCTYPE html&gt;\n&lt;html&gt;\n&lt;head&gt;\n    \n    &lt;meta http-equiv=&quot;content-type&quot; content=&quot;text/html; charset=UTF-8&quot; /&gt;\n    \n        &lt;script&gt;\n            L_NO_TOUCH = false;\n            L_DISABLE_3D = false;\n        &lt;/script&gt;\n    \n    &lt;style&gt;html, body {width: 100%;height: 100%;margin: 0;padding: 0;}&lt;/style&gt;\n    &lt;style&gt;#map {position:absolute;top:0;bottom:0;right:0;left:0;}&lt;/style&gt;\n    &lt;script src=&quot;https://cdn.jsdelivr.net/npm/leaflet@1.9.3/dist/leaflet.js&quot;&gt;&lt;/script&gt;\n    &lt;script src=&quot;https://code.jquery.com/jquery-1.12.4.min.js&quot;&gt;&lt;/script&gt;\n    &lt;script src=&quot;https://cdn.jsdelivr.net/npm/bootstrap@5.2.2/dist/js/bootstrap.bundle.min.js&quot;&gt;&lt;/script&gt;\n    &lt;script src=&quot;https://cdnjs.cloudflare.com/ajax/libs/Leaflet.awesome-markers/2.0.2/leaflet.awesome-markers.js&quot;&gt;&lt;/script&gt;\n    &lt;link rel=&quot;stylesheet&quot; href=&quot;https://cdn.jsdelivr.net/npm/leaflet@1.9.3/dist/leaflet.css&quot;/&gt;\n    &lt;link rel=&quot;stylesheet&quot; href=&quot;https://cdn.jsdelivr.net/npm/bootstrap@5.2.2/dist/css/bootstrap.min.css&quot;/&gt;\n    &lt;link rel=&quot;stylesheet&quot; href=&quot;https://netdna.bootstrapcdn.com/bootstrap/3.0.0/css/bootstrap.min.css&quot;/&gt;\n    &lt;link rel=&quot;stylesheet&quot; href=&quot;https://cdn.jsdelivr.net/npm/@fortawesome/fontawesome-free@6.2.0/css/all.min.css&quot;/&gt;\n    &lt;link rel=&quot;stylesheet&quot; href=&quot;https://cdnjs.cloudflare.com/ajax/libs/Leaflet.awesome-markers/2.0.2/leaflet.awesome-markers.css&quot;/&gt;\n    &lt;link rel=&quot;stylesheet&quot; href=&quot;https://cdn.jsdelivr.net/gh/python-visualization/folium/folium/templates/leaflet.awesome.rotate.min.css&quot;/&gt;\n    \n            &lt;meta name=&quot;viewport&quot; content=&quot;width=device-width,\n                initial-scale=1.0, maximum-scale=1.0, user-scalable=no&quot; /&gt;\n            &lt;style&gt;\n                #map_d177b127f9472ea9031e64b4767a465e {\n                    position: relative;\n                    width: 100.0%;\n                    height: 100.0%;\n                    left: 0.0%;\n                    top: 0.0%;\n                }\n                .leaflet-container { font-size: 1rem; }\n            &lt;/style&gt;\n        \n&lt;/head&gt;\n&lt;body&gt;\n    \n    \n            &lt;div class=&quot;folium-map&quot; id=&quot;map_d177b127f9472ea9031e64b4767a465e&quot; &gt;&lt;/div&gt;\n        \n&lt;/body&gt;\n&lt;script&gt;\n    \n    \n            var map_d177b127f9472ea9031e64b4767a465e = L.map(\n                &quot;map_d177b127f9472ea9031e64b4767a465e&quot;,\n                {\n                    center: [47.64677393756497, 12.213364655229798],\n                    crs: L.CRS.EPSG3857,\n                    zoom: 10,\n                    zoomControl: true,\n                    preferCanvas: false,\n                }\n            );\n\n            \n\n        \n    \n            var tile_layer_a13d77d5de86b321ba9450bd7d0f1864 = L.tileLayer(\n                &quot;https://{s}.tile.openstreetmap.org/{z}/{x}/{y}.png&quot;,\n                {&quot;attribution&quot;: &quot;Data by \\u0026copy; \\u003ca target=\\&quot;_blank\\&quot; href=\\&quot;http://openstreetmap.org\\&quot;\\u003eOpenStreetMap\\u003c/a\\u003e, under \\u003ca target=\\&quot;_blank\\&quot; href=\\&quot;http://www.openstreetmap.org/copyright\\&quot;\\u003eODbL\\u003c/a\\u003e.&quot;, &quot;detectRetina&quot;: false, &quot;maxNativeZoom&quot;: 18, &quot;maxZoom&quot;: 18, &quot;minZoom&quot;: 0, &quot;noWrap&quot;: false, &quot;opacity&quot;: 1, &quot;subdomains&quot;: &quot;abc&quot;, &quot;tms&quot;: false}\n            ).addTo(map_d177b127f9472ea9031e64b4767a465e);\n        \n    \n            var marker_ea5bbebf0b03b3234d6da56dd90e2fbc = L.marker(\n                [47.58363978136824, 12.160093367672697],\n                {}\n            ).addTo(map_d177b127f9472ea9031e64b4767a465e);\n        \n    \n            var icon_7f28d4e84848c78599fed2ee37cbcab4 = L.AwesomeMarkers.icon(\n                {&quot;extraClasses&quot;: &quot;fa-rotate-0&quot;, &quot;icon&quot;: &quot;circle&quot;, &quot;iconColor&quot;: &quot;white&quot;, &quot;markerColor&quot;: &quot;green&quot;, &quot;prefix&quot;: &quot;fa&quot;}\n            );\n            marker_ea5bbebf0b03b3234d6da56dd90e2fbc.setIcon(icon_7f28d4e84848c78599fed2ee37cbcab4);\n        \n    \n            var marker_6020fe1ed29c88e64e55ddcc45ecb5c6 = L.marker(\n                [47.64677393756497, 12.213364655229798],\n                {}\n            ).addTo(map_d177b127f9472ea9031e64b4767a465e);\n        \n    \n            var icon_bdce870322d7f89462dc5b300fa00da3 = L.AwesomeMarkers.icon(\n                {&quot;extraClasses&quot;: &quot;fa-rotate-0&quot;, &quot;icon&quot;: &quot;circle&quot;, &quot;iconColor&quot;: &quot;white&quot;, &quot;markerColor&quot;: &quot;red&quot;, &quot;prefix&quot;: &quot;fa&quot;}\n            );\n            marker_6020fe1ed29c88e64e55ddcc45ecb5c6.setIcon(icon_bdce870322d7f89462dc5b300fa00da3);\n        \n    \n        var popup_042c555e40a0b867fe74a7706bb31b8d = L.popup({&quot;maxWidth&quot;: &quot;100%&quot;});\n\n        \n            \n                var html_65725c37740761ddb1e70f70c7ad5207 = $(`&lt;div id=&quot;html_65725c37740761ddb1e70f70c7ad5207&quot; style=&quot;width: 100.0%; height: 100.0%;&quot;&gt;92f23793-6647-40aa-b255-fa1d4baec75d&lt;/div&gt;`)[0];\n                popup_042c555e40a0b867fe74a7706bb31b8d.setContent(html_65725c37740761ddb1e70f70c7ad5207);\n            \n        \n\n        marker_6020fe1ed29c88e64e55ddcc45ecb5c6.bindPopup(popup_042c555e40a0b867fe74a7706bb31b8d)\n        ;\n\n        \n    \n&lt;/script&gt;\n&lt;/html&gt;\" style=\"position:absolute;width:100%;height:100%;left:0;top:0;border:none !important;\" allowfullscreen webkitallowfullscreen mozallowfullscreen></iframe></div></div>"
     },
     "execution_count": 115,
     "metadata": {},
     "output_type": "execute_result"
    }
   ],
   "source": [
    "nn = nearest_neighbor(uuid=uuid)\n",
    "events = devices.get_last_integration(uuid=uuid)\n",
    "hotspots = sorted(events.hotspots, key=lambda h: h.rssi)\n",
    "\n",
    "\n",
    "map = folium.Map(\n",
    "    location=[nn.lat, nn.lng],\n",
    "    zoom_start=10\n",
    ")\n",
    "\n",
    "folium.Marker(\n",
    "    [h.lat, h.lng],\n",
    "    #popup=h.rssi,\n",
    "    icon=folium.Icon(color=\"green\", icon=\"circle\", prefix=\"fa\")\n",
    ").add_to(map)\n",
    "\n",
    "folium.Marker(\n",
    "    [nn.lat, nn.lng],\n",
    "    popup=event.device_id,\n",
    "    icon=folium.Icon(color=\"red\", icon=\"circle\", prefix=\"fa\")\n",
    ").add_to(map)\n",
    "\n",
    "map"
   ],
   "metadata": {
    "collapsed": false
   }
  },
  {
   "cell_type": "markdown",
   "source": [
    "## Positioning API - Midpoint\n",
    "\n",
    "### Usage"
   ],
   "metadata": {
    "collapsed": false
   }
  },
  {
   "cell_type": "code",
   "execution_count": 116,
   "outputs": [
    {
     "name": "stderr",
     "output_type": "stream",
     "text": [
      "INFO:helium_api_wrapper.devices:Getting Device Integration Events for uuid 92f23793-6647-40aa-b255-fa1d4baec75d\n",
      "INFO:helium_api_wrapper.hotspots:Getting hotspot for address 11rR8NYN3QJoRTiogKC5XAjtBJ9g2Vu3YTjatPPNDpKKoHaHziz\n",
      "INFO:helium_api_wrapper.hotspots:Getting hotspot for address 11YHbU2ov5pKtVZ77k99HsepVmryMw94mQgqz3znfUsduE837NK\n",
      "INFO:helium_api_wrapper.hotspots:Getting hotspot for address 11KAjhPC6KvzENpWci8f2RSZgaN85iBkYfiL4cJdpkR2eHguJNt\n",
      "INFO:helium_api_wrapper.hotspots:Getting hotspot for address 112ixEmKbUq7aA9LrjWLe12dH2m7d532ommwkzPHwRS6uar9Lv6J\n"
     ]
    },
    {
     "data": {
      "text/plain": "Prediction(uuid='92f23793-6647-40aa-b255-fa1d4baec75d', lat=47.58797190125902, lng=12.178607130024687, conf=None)"
     },
     "execution_count": 116,
     "metadata": {},
     "output_type": "execute_result"
    }
   ],
   "source": [
    "from helium_positioning_api.midpoint import midpoint\n",
    "\n",
    "midpoint(uuid=uuid)"
   ],
   "metadata": {
    "collapsed": false
   }
  },
  {
   "cell_type": "markdown",
   "source": [
    "### Explain"
   ],
   "metadata": {
    "collapsed": false
   }
  },
  {
   "cell_type": "code",
   "execution_count": 117,
   "outputs": [
    {
     "name": "stderr",
     "output_type": "stream",
     "text": [
      "INFO:helium_api_wrapper.devices:Getting Device Integration Events for uuid 92f23793-6647-40aa-b255-fa1d4baec75d\n",
      "INFO:helium_api_wrapper.hotspots:Getting hotspot for address 11rR8NYN3QJoRTiogKC5XAjtBJ9g2Vu3YTjatPPNDpKKoHaHziz\n",
      "INFO:helium_api_wrapper.hotspots:Getting hotspot for address 112nQquNCKtNbtk9jyyPymgMsLYoTD9DkxGvygRKNEPCy5yaEL6E\n",
      "INFO:helium_api_wrapper.hotspots:Getting hotspot for address 112SMTS4zsXi1b4utSGh1LDJsAnqTCXAGcJfvtWXfvesjWp4wsF6\n",
      "INFO:helium_api_wrapper.hotspots:Getting hotspot for address 11YHbU2ov5pKtVZ77k99HsepVmryMw94mQgqz3znfUsduE837NK\n",
      "INFO:helium_api_wrapper.devices:Getting Device Integration Events for uuid 92f23793-6647-40aa-b255-fa1d4baec75d\n",
      "INFO:helium_api_wrapper.hotspots:Getting hotspot for address 11rR8NYN3QJoRTiogKC5XAjtBJ9g2Vu3YTjatPPNDpKKoHaHziz\n",
      "INFO:helium_api_wrapper.hotspots:Getting hotspot for address 112nQquNCKtNbtk9jyyPymgMsLYoTD9DkxGvygRKNEPCy5yaEL6E\n",
      "INFO:helium_api_wrapper.hotspots:Getting hotspot for address 112SMTS4zsXi1b4utSGh1LDJsAnqTCXAGcJfvtWXfvesjWp4wsF6\n",
      "INFO:helium_api_wrapper.hotspots:Getting hotspot for address 11YHbU2ov5pKtVZ77k99HsepVmryMw94mQgqz3znfUsduE837NK\n"
     ]
    },
    {
     "data": {
      "text/plain": "<folium.folium.Map at 0x1ed686b8f10>",
      "text/html": "<div style=\"width:100%;\"><div style=\"position:relative;width:100%;height:0;padding-bottom:60%;\"><span style=\"color:#565656\">Make this Notebook Trusted to load map: File -> Trust Notebook</span><iframe srcdoc=\"&lt;!DOCTYPE html&gt;\n&lt;html&gt;\n&lt;head&gt;\n    \n    &lt;meta http-equiv=&quot;content-type&quot; content=&quot;text/html; charset=UTF-8&quot; /&gt;\n    \n        &lt;script&gt;\n            L_NO_TOUCH = false;\n            L_DISABLE_3D = false;\n        &lt;/script&gt;\n    \n    &lt;style&gt;html, body {width: 100%;height: 100%;margin: 0;padding: 0;}&lt;/style&gt;\n    &lt;style&gt;#map {position:absolute;top:0;bottom:0;right:0;left:0;}&lt;/style&gt;\n    &lt;script src=&quot;https://cdn.jsdelivr.net/npm/leaflet@1.9.3/dist/leaflet.js&quot;&gt;&lt;/script&gt;\n    &lt;script src=&quot;https://code.jquery.com/jquery-1.12.4.min.js&quot;&gt;&lt;/script&gt;\n    &lt;script src=&quot;https://cdn.jsdelivr.net/npm/bootstrap@5.2.2/dist/js/bootstrap.bundle.min.js&quot;&gt;&lt;/script&gt;\n    &lt;script src=&quot;https://cdnjs.cloudflare.com/ajax/libs/Leaflet.awesome-markers/2.0.2/leaflet.awesome-markers.js&quot;&gt;&lt;/script&gt;\n    &lt;link rel=&quot;stylesheet&quot; href=&quot;https://cdn.jsdelivr.net/npm/leaflet@1.9.3/dist/leaflet.css&quot;/&gt;\n    &lt;link rel=&quot;stylesheet&quot; href=&quot;https://cdn.jsdelivr.net/npm/bootstrap@5.2.2/dist/css/bootstrap.min.css&quot;/&gt;\n    &lt;link rel=&quot;stylesheet&quot; href=&quot;https://netdna.bootstrapcdn.com/bootstrap/3.0.0/css/bootstrap.min.css&quot;/&gt;\n    &lt;link rel=&quot;stylesheet&quot; href=&quot;https://cdn.jsdelivr.net/npm/@fortawesome/fontawesome-free@6.2.0/css/all.min.css&quot;/&gt;\n    &lt;link rel=&quot;stylesheet&quot; href=&quot;https://cdnjs.cloudflare.com/ajax/libs/Leaflet.awesome-markers/2.0.2/leaflet.awesome-markers.css&quot;/&gt;\n    &lt;link rel=&quot;stylesheet&quot; href=&quot;https://cdn.jsdelivr.net/gh/python-visualization/folium/folium/templates/leaflet.awesome.rotate.min.css&quot;/&gt;\n    \n            &lt;meta name=&quot;viewport&quot; content=&quot;width=device-width,\n                initial-scale=1.0, maximum-scale=1.0, user-scalable=no&quot; /&gt;\n            &lt;style&gt;\n                #map_f79c862b5f2975fc3c7d72e8dccc34c6 {\n                    position: relative;\n                    width: 100.0%;\n                    height: 100.0%;\n                    left: 0.0%;\n                    top: 0.0%;\n                }\n                .leaflet-container { font-size: 1rem; }\n            &lt;/style&gt;\n        \n&lt;/head&gt;\n&lt;body&gt;\n    \n    \n            &lt;div class=&quot;folium-map&quot; id=&quot;map_f79c862b5f2975fc3c7d72e8dccc34c6&quot; &gt;&lt;/div&gt;\n        \n&lt;/body&gt;\n&lt;script&gt;\n    \n    \n            var map_f79c862b5f2975fc3c7d72e8dccc34c6 = L.map(\n                &quot;map_f79c862b5f2975fc3c7d72e8dccc34c6&quot;,\n                {\n                    center: [47.59201047186161, 12.17680597730383],\n                    crs: L.CRS.EPSG3857,\n                    zoom: 13,\n                    zoomControl: true,\n                    preferCanvas: false,\n                }\n            );\n\n            \n\n        \n    \n            var tile_layer_acbb9a6ae273ce4238351e343d8e44ee = L.tileLayer(\n                &quot;https://{s}.tile.openstreetmap.org/{z}/{x}/{y}.png&quot;,\n                {&quot;attribution&quot;: &quot;Data by \\u0026copy; \\u003ca target=\\&quot;_blank\\&quot; href=\\&quot;http://openstreetmap.org\\&quot;\\u003eOpenStreetMap\\u003c/a\\u003e, under \\u003ca target=\\&quot;_blank\\&quot; href=\\&quot;http://www.openstreetmap.org/copyright\\&quot;\\u003eODbL\\u003c/a\\u003e.&quot;, &quot;detectRetina&quot;: false, &quot;maxNativeZoom&quot;: 18, &quot;maxZoom&quot;: 18, &quot;minZoom&quot;: 0, &quot;noWrap&quot;: false, &quot;opacity&quot;: 1, &quot;subdomains&quot;: &quot;abc&quot;, &quot;tms&quot;: false}\n            ).addTo(map_f79c862b5f2975fc3c7d72e8dccc34c6);\n        \n    \n            var marker_52976a61d68449326921a140e51184f7 = L.marker(\n                [47.59235280729005, 12.178968417210466],\n                {}\n            ).addTo(map_f79c862b5f2975fc3c7d72e8dccc34c6);\n        \n    \n            var icon_e598691124e8329df6f2665adc2f5179 = L.AwesomeMarkers.icon(\n                {&quot;extraClasses&quot;: &quot;fa-rotate-0&quot;, &quot;icon&quot;: &quot;circle&quot;, &quot;iconColor&quot;: &quot;white&quot;, &quot;markerColor&quot;: &quot;green&quot;, &quot;prefix&quot;: &quot;fa&quot;}\n            );\n            marker_52976a61d68449326921a140e51184f7.setIcon(icon_e598691124e8329df6f2665adc2f5179);\n        \n    \n        var popup_97d2f3ce53780f15beb454368f227f84 = L.popup({&quot;maxWidth&quot;: &quot;100%&quot;});\n\n        \n            \n                var html_a46190c2ffec7f42ba2f6aea39ed408a = $(`&lt;div id=&quot;html_a46190c2ffec7f42ba2f6aea39ed408a&quot; style=&quot;width: 100.0%; height: 100.0%;&quot;&gt;-123.0&lt;/div&gt;`)[0];\n                popup_97d2f3ce53780f15beb454368f227f84.setContent(html_a46190c2ffec7f42ba2f6aea39ed408a);\n            \n        \n\n        marker_52976a61d68449326921a140e51184f7.bindPopup(popup_97d2f3ce53780f15beb454368f227f84)\n        ;\n\n        \n    \n    \n            var marker_5fbbf0916212b675c90d0900d8c5930c = L.marker(\n                [47.59166809579357, 12.174643565689877],\n                {}\n            ).addTo(map_f79c862b5f2975fc3c7d72e8dccc34c6);\n        \n    \n            var icon_b3585898c337f512aac34f265133b22a = L.AwesomeMarkers.icon(\n                {&quot;extraClasses&quot;: &quot;fa-rotate-0&quot;, &quot;icon&quot;: &quot;circle&quot;, &quot;iconColor&quot;: &quot;white&quot;, &quot;markerColor&quot;: &quot;green&quot;, &quot;prefix&quot;: &quot;fa&quot;}\n            );\n            marker_5fbbf0916212b675c90d0900d8c5930c.setIcon(icon_b3585898c337f512aac34f265133b22a);\n        \n    \n        var popup_33b1871d60366617a1c48a4e62743535 = L.popup({&quot;maxWidth&quot;: &quot;100%&quot;});\n\n        \n            \n                var html_ac273341b3ed2053ee7c42ef343fe574 = $(`&lt;div id=&quot;html_ac273341b3ed2053ee7c42ef343fe574&quot; style=&quot;width: 100.0%; height: 100.0%;&quot;&gt;-114.0&lt;/div&gt;`)[0];\n                popup_33b1871d60366617a1c48a4e62743535.setContent(html_ac273341b3ed2053ee7c42ef343fe574);\n            \n        \n\n        marker_5fbbf0916212b675c90d0900d8c5930c.bindPopup(popup_33b1871d60366617a1c48a4e62743535)\n        ;\n\n        \n    \n    \n            var marker_34deea080b1f80454f4603c6a3c9a7af = L.marker(\n                [47.59201047186161, 12.17680597730383],\n                {}\n            ).addTo(map_f79c862b5f2975fc3c7d72e8dccc34c6);\n        \n    \n            var icon_df847456d002fd1afd53f5b0428abf20 = L.AwesomeMarkers.icon(\n                {&quot;extraClasses&quot;: &quot;fa-rotate-0&quot;, &quot;icon&quot;: &quot;circle&quot;, &quot;iconColor&quot;: &quot;white&quot;, &quot;markerColor&quot;: &quot;red&quot;, &quot;prefix&quot;: &quot;fa&quot;}\n            );\n            marker_34deea080b1f80454f4603c6a3c9a7af.setIcon(icon_df847456d002fd1afd53f5b0428abf20);\n        \n    \n        var popup_7468ca4834368f60d4e5f36118371b11 = L.popup({&quot;maxWidth&quot;: &quot;100%&quot;});\n\n        \n            \n                var html_9fb651df3c07acdc6a38ed1a07716949 = $(`&lt;div id=&quot;html_9fb651df3c07acdc6a38ed1a07716949&quot; style=&quot;width: 100.0%; height: 100.0%;&quot;&gt;92f23793-6647-40aa-b255-fa1d4baec75d&lt;/div&gt;`)[0];\n                popup_7468ca4834368f60d4e5f36118371b11.setContent(html_9fb651df3c07acdc6a38ed1a07716949);\n            \n        \n\n        marker_34deea080b1f80454f4603c6a3c9a7af.bindPopup(popup_7468ca4834368f60d4e5f36118371b11)\n        ;\n\n        \n    \n&lt;/script&gt;\n&lt;/html&gt;\" style=\"position:absolute;width:100%;height:100%;left:0;top:0;border:none !important;\" allowfullscreen webkitallowfullscreen mozallowfullscreen></iframe></div></div>"
     },
     "execution_count": 117,
     "metadata": {},
     "output_type": "execute_result"
    }
   ],
   "source": [
    "mp = midpoint(uuid=uuid)\n",
    "event = devices.get_last_integration(uuid=uuid)\n",
    "hotspots = sorted(event.hotspots, key=lambda h: h.rssi)\n",
    "\n",
    "map = folium.Map(\n",
    "    location=[mp.lat, mp.lng],\n",
    "    zoom_start=13\n",
    ")\n",
    "\n",
    "for h in hotspots[:2]:\n",
    "    folium.Marker(\n",
    "        [h.lat, h.lng],\n",
    "        popup=h.rssi,\n",
    "        icon=folium.Icon(color=\"green\", icon=\"circle\", prefix=\"fa\")\n",
    "    ).add_to(map)\n",
    "\n",
    "folium.Marker(\n",
    "    [mp.lat, mp.lng],\n",
    "    popup=event.device_id,\n",
    "    icon=folium.Icon(color=\"red\", icon=\"circle\", prefix=\"fa\")\n",
    ").add_to(map)\n",
    "\n",
    "map"
   ],
   "metadata": {
    "collapsed": false
   }
  },
  {
   "cell_type": "markdown",
   "source": [
    "## Positioning API - Trilateration\n",
    "\n",
    "### Usage"
   ],
   "metadata": {
    "collapsed": false
   }
  },
  {
   "cell_type": "code",
   "execution_count": 119,
   "outputs": [
    {
     "name": "stderr",
     "output_type": "stream",
     "text": [
      "INFO:helium_api_wrapper.devices:Getting Device Integration Events for uuid 92f23793-6647-40aa-b255-fa1d4baec75d\n",
      "INFO:helium_api_wrapper.hotspots:Getting hotspot for address 11rR8NYN3QJoRTiogKC5XAjtBJ9g2Vu3YTjatPPNDpKKoHaHziz\n",
      "INFO:helium_api_wrapper.hotspots:Getting hotspot for address 112ixEmKbUq7aA9LrjWLe12dH2m7d532ommwkzPHwRS6uar9Lv6J\n",
      "INFO:helium_api_wrapper.hotspots:Getting hotspot for address 11YHbU2ov5pKtVZ77k99HsepVmryMw94mQgqz3znfUsduE837NK\n",
      "INFO:helium_api_wrapper.hotspots:Getting hotspot for address 11JPVYV9tLnhgcp78VHE4jPhEQen7HSCoSsnvXC9iyYPjGvPpFC\n",
      "INFO:helium_api_wrapper.devices:Getting Device Integration Events for uuid 92f23793-6647-40aa-b255-fa1d4baec75d\n",
      "INFO:helium_api_wrapper.hotspots:Getting hotspot for address 11rR8NYN3QJoRTiogKC5XAjtBJ9g2Vu3YTjatPPNDpKKoHaHziz\n",
      "INFO:helium_api_wrapper.hotspots:Getting hotspot for address 112ixEmKbUq7aA9LrjWLe12dH2m7d532ommwkzPHwRS6uar9Lv6J\n",
      "INFO:helium_api_wrapper.hotspots:Getting hotspot for address 11YHbU2ov5pKtVZ77k99HsepVmryMw94mQgqz3znfUsduE837NK\n",
      "INFO:helium_api_wrapper.hotspots:Getting hotspot for address 11JPVYV9tLnhgcp78VHE4jPhEQen7HSCoSsnvXC9iyYPjGvPpFC\n"
     ]
    },
    {
     "name": "stdout",
     "output_type": "stream",
     "text": [
      "Linear Prediction: \n",
      "uuid: 92f23793-6647-40aa-b255-fa1d4baec75d\n",
      "lat: 47.65252239934186\n",
      "lng: 12.10138447616639\n",
      "confidence: None\n",
      "Gradient Prediction: \n",
      "uuid: 92f23793-6647-40aa-b255-fa1d4baec75d\n",
      "lat: 47.67466800101531\n",
      "lng: 12.030344833590323\n",
      "confidence: None\n"
     ]
    }
   ],
   "source": [
    "from helium_positioning_api.trilateration import trilateration\n",
    "\n",
    "linear_prediction = trilateration(uuid=uuid, model=\"linear_regression\")\n",
    "gradient_prediction = trilateration(uuid=uuid, model=\"gradient_boosting\")\n",
    "\n",
    "print(\n",
    "    f\"Linear Prediction: {linear_prediction}\",\n",
    "    f\"Gradient Prediction: {gradient_prediction}\",\n",
    "    sep=\"\\n\"\n",
    ")"
   ],
   "metadata": {
    "collapsed": false
   }
  },
  {
   "cell_type": "markdown",
   "source": [
    "### Explain"
   ],
   "metadata": {
    "collapsed": false
   }
  },
  {
   "cell_type": "code",
   "execution_count": 123,
   "outputs": [
    {
     "name": "stderr",
     "output_type": "stream",
     "text": [
      "INFO:helium_api_wrapper.devices:Getting Device Integration Events for uuid 92f23793-6647-40aa-b255-fa1d4baec75d\n",
      "INFO:helium_api_wrapper.hotspots:Getting hotspot for address 11rR8NYN3QJoRTiogKC5XAjtBJ9g2Vu3YTjatPPNDpKKoHaHziz\n",
      "INFO:helium_api_wrapper.hotspots:Getting hotspot for address 112sDtGDuLbHQJH5pjQHkXkan42g6Ut67Lox8BQePb7MGDccWhrV\n",
      "INFO:helium_api_wrapper.hotspots:Getting hotspot for address 112SMTS4zsXi1b4utSGh1LDJsAnqTCXAGcJfvtWXfvesjWp4wsF6\n",
      "INFO:helium_api_wrapper.devices:Getting Device Integration Events for uuid 92f23793-6647-40aa-b255-fa1d4baec75d\n",
      "INFO:helium_api_wrapper.hotspots:Getting hotspot for address 11rR8NYN3QJoRTiogKC5XAjtBJ9g2Vu3YTjatPPNDpKKoHaHziz\n",
      "INFO:helium_api_wrapper.hotspots:Getting hotspot for address 112sDtGDuLbHQJH5pjQHkXkan42g6Ut67Lox8BQePb7MGDccWhrV\n",
      "INFO:helium_api_wrapper.hotspots:Getting hotspot for address 112SMTS4zsXi1b4utSGh1LDJsAnqTCXAGcJfvtWXfvesjWp4wsF6\n"
     ]
    }
   ],
   "source": [
    "from helium_positioning_api.trilateration import compile_hotspot_info\n",
    "\n",
    "prediction = trilateration(uuid=uuid, model=\"gradient_boosting\")\n",
    "\n",
    "event = devices.get_last_integration(uuid=uuid)\n",
    "hotspots = sorted(event.hotspots, key=lambda h: h.rssi)\n",
    "distances = compile_hotspot_info(hotspots, model=\"gradient_boosting\")"
   ],
   "metadata": {
    "collapsed": false
   }
  },
  {
   "cell_type": "code",
   "execution_count": 124,
   "outputs": [
    {
     "data": {
      "text/plain": "<folium.folium.Map at 0x1ed6845a7f0>",
      "text/html": "<div style=\"width:100%;\"><div style=\"position:relative;width:100%;height:0;padding-bottom:60%;\"><span style=\"color:#565656\">Make this Notebook Trusted to load map: File -> Trust Notebook</span><iframe srcdoc=\"&lt;!DOCTYPE html&gt;\n&lt;html&gt;\n&lt;head&gt;\n    \n    &lt;meta http-equiv=&quot;content-type&quot; content=&quot;text/html; charset=UTF-8&quot; /&gt;\n    \n        &lt;script&gt;\n            L_NO_TOUCH = false;\n            L_DISABLE_3D = false;\n        &lt;/script&gt;\n    \n    &lt;style&gt;html, body {width: 100%;height: 100%;margin: 0;padding: 0;}&lt;/style&gt;\n    &lt;style&gt;#map {position:absolute;top:0;bottom:0;right:0;left:0;}&lt;/style&gt;\n    &lt;script src=&quot;https://cdn.jsdelivr.net/npm/leaflet@1.9.3/dist/leaflet.js&quot;&gt;&lt;/script&gt;\n    &lt;script src=&quot;https://code.jquery.com/jquery-1.12.4.min.js&quot;&gt;&lt;/script&gt;\n    &lt;script src=&quot;https://cdn.jsdelivr.net/npm/bootstrap@5.2.2/dist/js/bootstrap.bundle.min.js&quot;&gt;&lt;/script&gt;\n    &lt;script src=&quot;https://cdnjs.cloudflare.com/ajax/libs/Leaflet.awesome-markers/2.0.2/leaflet.awesome-markers.js&quot;&gt;&lt;/script&gt;\n    &lt;link rel=&quot;stylesheet&quot; href=&quot;https://cdn.jsdelivr.net/npm/leaflet@1.9.3/dist/leaflet.css&quot;/&gt;\n    &lt;link rel=&quot;stylesheet&quot; href=&quot;https://cdn.jsdelivr.net/npm/bootstrap@5.2.2/dist/css/bootstrap.min.css&quot;/&gt;\n    &lt;link rel=&quot;stylesheet&quot; href=&quot;https://netdna.bootstrapcdn.com/bootstrap/3.0.0/css/bootstrap.min.css&quot;/&gt;\n    &lt;link rel=&quot;stylesheet&quot; href=&quot;https://cdn.jsdelivr.net/npm/@fortawesome/fontawesome-free@6.2.0/css/all.min.css&quot;/&gt;\n    &lt;link rel=&quot;stylesheet&quot; href=&quot;https://cdnjs.cloudflare.com/ajax/libs/Leaflet.awesome-markers/2.0.2/leaflet.awesome-markers.css&quot;/&gt;\n    &lt;link rel=&quot;stylesheet&quot; href=&quot;https://cdn.jsdelivr.net/gh/python-visualization/folium/folium/templates/leaflet.awesome.rotate.min.css&quot;/&gt;\n    \n            &lt;meta name=&quot;viewport&quot; content=&quot;width=device-width,\n                initial-scale=1.0, maximum-scale=1.0, user-scalable=no&quot; /&gt;\n            &lt;style&gt;\n                #map_f985fa756e4dd4ead3ceceb80e58911a {\n                    position: relative;\n                    width: 100.0%;\n                    height: 100.0%;\n                    left: 0.0%;\n                    top: 0.0%;\n                }\n                .leaflet-container { font-size: 1rem; }\n            &lt;/style&gt;\n        \n&lt;/head&gt;\n&lt;body&gt;\n    \n    \n            &lt;div class=&quot;folium-map&quot; id=&quot;map_f985fa756e4dd4ead3ceceb80e58911a&quot; &gt;&lt;/div&gt;\n        \n&lt;/body&gt;\n&lt;script&gt;\n    \n    \n            var map_f985fa756e4dd4ead3ceceb80e58911a = L.map(\n                &quot;map_f985fa756e4dd4ead3ceceb80e58911a&quot;,\n                {\n                    center: [47.551204162351816, 12.359315398793381],\n                    crs: L.CRS.EPSG3857,\n                    zoom: 10,\n                    zoomControl: true,\n                    preferCanvas: false,\n                }\n            );\n\n            \n\n        \n    \n            var tile_layer_4d91d9d74b183c02dc296075ae5b9a83 = L.tileLayer(\n                &quot;https://{s}.tile.openstreetmap.org/{z}/{x}/{y}.png&quot;,\n                {&quot;attribution&quot;: &quot;Data by \\u0026copy; \\u003ca target=\\&quot;_blank\\&quot; href=\\&quot;http://openstreetmap.org\\&quot;\\u003eOpenStreetMap\\u003c/a\\u003e, under \\u003ca target=\\&quot;_blank\\&quot; href=\\&quot;http://www.openstreetmap.org/copyright\\&quot;\\u003eODbL\\u003c/a\\u003e.&quot;, &quot;detectRetina&quot;: false, &quot;maxNativeZoom&quot;: 18, &quot;maxZoom&quot;: 18, &quot;minZoom&quot;: 0, &quot;noWrap&quot;: false, &quot;opacity&quot;: 1, &quot;subdomains&quot;: &quot;abc&quot;, &quot;tms&quot;: false}\n            ).addTo(map_f985fa756e4dd4ead3ceceb80e58911a);\n        \n    \n            var marker_01b0ba81cd71fdc0102545a052dbd297 = L.marker(\n                [47.59235280729005, 12.178968417210466],\n                {}\n            ).addTo(map_f985fa756e4dd4ead3ceceb80e58911a);\n        \n    \n            var icon_e90a197ba4d5d21be4cfb0144ef5420c = L.AwesomeMarkers.icon(\n                {&quot;extraClasses&quot;: &quot;fa-rotate-0&quot;, &quot;icon&quot;: &quot;circle&quot;, &quot;iconColor&quot;: &quot;white&quot;, &quot;markerColor&quot;: &quot;green&quot;, &quot;prefix&quot;: &quot;fa&quot;}\n            );\n            marker_01b0ba81cd71fdc0102545a052dbd297.setIcon(icon_e90a197ba4d5d21be4cfb0144ef5420c);\n        \n    \n        var popup_bcfb716b3f5c05a10ceed0a92f2f5ba8 = L.popup({&quot;maxWidth&quot;: &quot;100%&quot;});\n\n        \n            \n                var html_b8d6dfacd4064e1da8227efa6c27fe39 = $(`&lt;div id=&quot;html_b8d6dfacd4064e1da8227efa6c27fe39&quot; style=&quot;width: 100.0%; height: 100.0%;&quot;&gt;-119.0&lt;/div&gt;`)[0];\n                popup_bcfb716b3f5c05a10ceed0a92f2f5ba8.setContent(html_b8d6dfacd4064e1da8227efa6c27fe39);\n            \n        \n\n        marker_01b0ba81cd71fdc0102545a052dbd297.bindPopup(popup_bcfb716b3f5c05a10ceed0a92f2f5ba8)\n        ;\n\n        \n    \n    \n            var marker_b157a5e922d0d73e34fb012cdb212b2f = L.marker(\n                [47.64677393756497, 12.213364655229798],\n                {}\n            ).addTo(map_f985fa756e4dd4ead3ceceb80e58911a);\n        \n    \n            var icon_1f9c779023c1fb64486687b48a5ecb25 = L.AwesomeMarkers.icon(\n                {&quot;extraClasses&quot;: &quot;fa-rotate-0&quot;, &quot;icon&quot;: &quot;circle&quot;, &quot;iconColor&quot;: &quot;white&quot;, &quot;markerColor&quot;: &quot;green&quot;, &quot;prefix&quot;: &quot;fa&quot;}\n            );\n            marker_b157a5e922d0d73e34fb012cdb212b2f.setIcon(icon_1f9c779023c1fb64486687b48a5ecb25);\n        \n    \n        var popup_43ddfbb9f289088ed6eda6682bdbd7bc = L.popup({&quot;maxWidth&quot;: &quot;100%&quot;});\n\n        \n            \n                var html_32ccd7ce4add6d27e45ea6969ae1cab1 = $(`&lt;div id=&quot;html_32ccd7ce4add6d27e45ea6969ae1cab1&quot; style=&quot;width: 100.0%; height: 100.0%;&quot;&gt;-128.0&lt;/div&gt;`)[0];\n                popup_43ddfbb9f289088ed6eda6682bdbd7bc.setContent(html_32ccd7ce4add6d27e45ea6969ae1cab1);\n            \n        \n\n        marker_b157a5e922d0d73e34fb012cdb212b2f.bindPopup(popup_43ddfbb9f289088ed6eda6682bdbd7bc)\n        ;\n\n        \n    \n    \n            var marker_d5aa2239f3781bbe6ccba585769b9f9b = L.marker(\n                [47.587865092995216, 12.176353207764826],\n                {}\n            ).addTo(map_f985fa756e4dd4ead3ceceb80e58911a);\n        \n    \n            var icon_0a307c904507fe49e7c986ac8a84f25d = L.AwesomeMarkers.icon(\n                {&quot;extraClasses&quot;: &quot;fa-rotate-0&quot;, &quot;icon&quot;: &quot;circle&quot;, &quot;iconColor&quot;: &quot;white&quot;, &quot;markerColor&quot;: &quot;green&quot;, &quot;prefix&quot;: &quot;fa&quot;}\n            );\n            marker_d5aa2239f3781bbe6ccba585769b9f9b.setIcon(icon_0a307c904507fe49e7c986ac8a84f25d);\n        \n    \n        var popup_8bb18c9a929aab2c1dc8dd6a769dd97a = L.popup({&quot;maxWidth&quot;: &quot;100%&quot;});\n\n        \n            \n                var html_be9cbde3401961a577f81ad22fd3c5ef = $(`&lt;div id=&quot;html_be9cbde3401961a577f81ad22fd3c5ef&quot; style=&quot;width: 100.0%; height: 100.0%;&quot;&gt;-90.0&lt;/div&gt;`)[0];\n                popup_8bb18c9a929aab2c1dc8dd6a769dd97a.setContent(html_be9cbde3401961a577f81ad22fd3c5ef);\n            \n        \n\n        marker_d5aa2239f3781bbe6ccba585769b9f9b.bindPopup(popup_8bb18c9a929aab2c1dc8dd6a769dd97a)\n        ;\n\n        \n    \n    \n            var circle_f18eadaf7990ad07ae7dc3dc0bf73255 = L.circle(\n                [47.64677393756497, 12.213364655229798],\n                {&quot;bubblingMouseEvents&quot;: true, &quot;color&quot;: &quot;orange&quot;, &quot;dashArray&quot;: null, &quot;dashOffset&quot;: null, &quot;fill&quot;: false, &quot;fillColor&quot;: &quot;orange&quot;, &quot;fillOpacity&quot;: 0.2, &quot;fillRule&quot;: &quot;evenodd&quot;, &quot;lineCap&quot;: &quot;round&quot;, &quot;lineJoin&quot;: &quot;round&quot;, &quot;opacity&quot;: 1.0, &quot;radius&quot;: 15279.25729513785, &quot;stroke&quot;: true, &quot;weight&quot;: 3}\n            ).addTo(map_f985fa756e4dd4ead3ceceb80e58911a);\n        \n    \n            var circle_4b82f9a712e3b554ca2a8c858384d27f = L.circle(\n                [47.59235280729005, 12.178968417210466],\n                {&quot;bubblingMouseEvents&quot;: true, &quot;color&quot;: &quot;orange&quot;, &quot;dashArray&quot;: null, &quot;dashOffset&quot;: null, &quot;fill&quot;: false, &quot;fillColor&quot;: &quot;orange&quot;, &quot;fillOpacity&quot;: 0.2, &quot;fillRule&quot;: &quot;evenodd&quot;, &quot;lineCap&quot;: &quot;round&quot;, &quot;lineJoin&quot;: &quot;round&quot;, &quot;opacity&quot;: 1.0, &quot;radius&quot;: 14398.260469219727, &quot;stroke&quot;: true, &quot;weight&quot;: 3}\n            ).addTo(map_f985fa756e4dd4ead3ceceb80e58911a);\n        \n    \n            var circle_bf1b5cef707a62d7da59cfa96de19d19 = L.circle(\n                [47.587865092995216, 12.176353207764826],\n                {&quot;bubblingMouseEvents&quot;: true, &quot;color&quot;: &quot;orange&quot;, &quot;dashArray&quot;: null, &quot;dashOffset&quot;: null, &quot;fill&quot;: false, &quot;fillColor&quot;: &quot;orange&quot;, &quot;fillOpacity&quot;: 0.2, &quot;fillRule&quot;: &quot;evenodd&quot;, &quot;lineCap&quot;: &quot;round&quot;, &quot;lineJoin&quot;: &quot;round&quot;, &quot;opacity&quot;: 1.0, &quot;radius&quot;: 14278.474337425047, &quot;stroke&quot;: true, &quot;weight&quot;: 3}\n            ).addTo(map_f985fa756e4dd4ead3ceceb80e58911a);\n        \n    \n            var marker_71c7e36302bac3cce9fa3e2fa88a2ea0 = L.marker(\n                [47.551204162351816, 12.359315398793381],\n                {}\n            ).addTo(map_f985fa756e4dd4ead3ceceb80e58911a);\n        \n    \n            var icon_52f8c4bb24cc69ae7c9a464dba41cb50 = L.AwesomeMarkers.icon(\n                {&quot;extraClasses&quot;: &quot;fa-rotate-0&quot;, &quot;icon&quot;: &quot;circle&quot;, &quot;iconColor&quot;: &quot;white&quot;, &quot;markerColor&quot;: &quot;red&quot;, &quot;prefix&quot;: &quot;fa&quot;}\n            );\n            marker_71c7e36302bac3cce9fa3e2fa88a2ea0.setIcon(icon_52f8c4bb24cc69ae7c9a464dba41cb50);\n        \n&lt;/script&gt;\n&lt;/html&gt;\" style=\"position:absolute;width:100%;height:100%;left:0;top:0;border:none !important;\" allowfullscreen webkitallowfullscreen mozallowfullscreen></iframe></div></div>"
     },
     "execution_count": 124,
     "metadata": {},
     "output_type": "execute_result"
    }
   ],
   "source": [
    "map = folium.Map(\n",
    "    location=[prediction.lat, prediction.lng],\n",
    "    zoom_start=10\n",
    ")\n",
    "\n",
    "for point in event.hotspots:\n",
    "    folium.Marker(\n",
    "        [point.lat, point.lng],\n",
    "        popup=point.rssi,\n",
    "        icon=folium.Icon(color=\"green\", icon=\"circle\", prefix=\"fa\")\n",
    "    ).add_to(map)\n",
    "\n",
    "for i in range(len(distances)):\n",
    "    folium.Circle(\n",
    "        radius=distances[2][i][0],\n",
    "        location=(distances[1][i], distances[0][i]),\n",
    "        color='orange',\n",
    "        fill=False,\n",
    "    ).add_to(map)\n",
    "\n",
    "folium.Marker(\n",
    "    [prediction.lat, prediction.lng],\n",
    "    icon=folium.Icon(color=\"red\", icon=\"circle\", prefix=\"fa\")\n",
    ").add_to(map)\n",
    "\n",
    "map"
   ],
   "metadata": {
    "collapsed": false
   }
  },
  {
   "cell_type": "markdown",
   "source": [
    "## REST API"
   ],
   "metadata": {
    "collapsed": false
   }
  },
  {
   "cell_type": "code",
   "execution_count": null,
   "outputs": [],
   "source": [],
   "metadata": {
    "collapsed": false
   }
  }
 ],
 "metadata": {
  "kernelspec": {
   "display_name": "Python 3",
   "language": "python",
   "name": "python3"
  },
  "language_info": {
   "codemirror_mode": {
    "name": "ipython",
    "version": 2
   },
   "file_extension": ".py",
   "mimetype": "text/x-python",
   "name": "python",
   "nbconvert_exporter": "python",
   "pygments_lexer": "ipython2",
   "version": "2.7.6"
  }
 },
 "nbformat": 4,
 "nbformat_minor": 0
}
